{
 "cells": [
  {
   "cell_type": "code",
   "id": "initial_id",
   "metadata": {
    "collapsed": true,
    "ExecuteTime": {
     "end_time": "2024-07-24T04:24:52.029702Z",
     "start_time": "2024-07-24T04:24:51.564236Z"
    }
   },
   "source": "import pandas as pd",
   "outputs": [],
   "execution_count": 1
  },
  {
   "metadata": {
    "ExecuteTime": {
     "end_time": "2024-07-24T04:52:08.326783Z",
     "start_time": "2024-07-24T04:52:08.312296Z"
    }
   },
   "cell_type": "code",
   "source": [
    "df0df = pd.read_csv(\"result/deepface_analysis_results_0.csv\")\n",
    "df1df = pd.read_csv(\"result/deepface_analysis_results_1.csv\")\n",
    "df2df = pd.read_csv(\"result/deepface_analysis_results_2.csv\")\n",
    "df3df = pd.read_csv(\"result/deepface_analysis_results_3.csv\")\n",
    "df4df = pd.read_csv(\"result/deepface_analysis_results_4.csv\")\n",
    "df = pd.read_json()"
   ],
   "id": "bb1428817a1818ff",
   "outputs": [],
   "execution_count": 9
  },
  {
   "metadata": {
    "ExecuteTime": {
     "end_time": "2024-07-24T04:27:15.113029Z",
     "start_time": "2024-07-24T04:27:15.086801Z"
    }
   },
   "cell_type": "code",
   "source": [
    "# Checking computer error.\n",
    "# Check if the data has different value"
   ],
   "id": "24e0a5e4114182c3",
   "outputs": [
    {
     "name": "stdout",
     "output_type": "stream",
     "text": [
      "<class 'pandas.core.frame.DataFrame'>\n",
      "RangeIndex: 45 entries, 0 to 44\n",
      "Data columns (total 10 columns):\n",
      " #   Column            Non-Null Count  Dtype  \n",
      "---  ------            --------------  -----  \n",
      " 0   age               45 non-null     int64  \n",
      " 1   region            45 non-null     object \n",
      " 2   face_confidence   45 non-null     float64\n",
      " 3   gender            45 non-null     object \n",
      " 4   dominant_gender   45 non-null     object \n",
      " 5   race              45 non-null     object \n",
      " 6   dominant_race     45 non-null     object \n",
      " 7   emotion           45 non-null     object \n",
      " 8   dominant_emotion  45 non-null     object \n",
      " 9   file_path         45 non-null     object \n",
      "dtypes: float64(1), int64(1), object(8)\n",
      "memory usage: 3.6+ KB\n",
      "<class 'pandas.core.frame.DataFrame'>\n",
      "RangeIndex: 45 entries, 0 to 44\n",
      "Data columns (total 10 columns):\n",
      " #   Column            Non-Null Count  Dtype  \n",
      "---  ------            --------------  -----  \n",
      " 0   age               45 non-null     int64  \n",
      " 1   region            45 non-null     object \n",
      " 2   face_confidence   45 non-null     float64\n",
      " 3   gender            45 non-null     object \n",
      " 4   dominant_gender   45 non-null     object \n",
      " 5   race              45 non-null     object \n",
      " 6   dominant_race     45 non-null     object \n",
      " 7   emotion           45 non-null     object \n",
      " 8   dominant_emotion  45 non-null     object \n",
      " 9   file_path         45 non-null     object \n",
      "dtypes: float64(1), int64(1), object(8)\n",
      "memory usage: 3.6+ KB\n",
      "<class 'pandas.core.frame.DataFrame'>\n",
      "RangeIndex: 45 entries, 0 to 44\n",
      "Data columns (total 10 columns):\n",
      " #   Column            Non-Null Count  Dtype  \n",
      "---  ------            --------------  -----  \n",
      " 0   age               45 non-null     int64  \n",
      " 1   region            45 non-null     object \n",
      " 2   face_confidence   45 non-null     float64\n",
      " 3   gender            45 non-null     object \n",
      " 4   dominant_gender   45 non-null     object \n",
      " 5   race              45 non-null     object \n",
      " 6   dominant_race     45 non-null     object \n",
      " 7   emotion           45 non-null     object \n",
      " 8   dominant_emotion  45 non-null     object \n",
      " 9   file_path         45 non-null     object \n",
      "dtypes: float64(1), int64(1), object(8)\n",
      "memory usage: 3.6+ KB\n",
      "<class 'pandas.core.frame.DataFrame'>\n",
      "RangeIndex: 45 entries, 0 to 44\n",
      "Data columns (total 10 columns):\n",
      " #   Column            Non-Null Count  Dtype  \n",
      "---  ------            --------------  -----  \n",
      " 0   age               45 non-null     int64  \n",
      " 1   region            45 non-null     object \n",
      " 2   face_confidence   45 non-null     float64\n",
      " 3   gender            45 non-null     object \n",
      " 4   dominant_gender   45 non-null     object \n",
      " 5   race              45 non-null     object \n",
      " 6   dominant_race     45 non-null     object \n",
      " 7   emotion           45 non-null     object \n",
      " 8   dominant_emotion  45 non-null     object \n",
      " 9   file_path         45 non-null     object \n",
      "dtypes: float64(1), int64(1), object(8)\n",
      "memory usage: 3.6+ KB\n",
      "<class 'pandas.core.frame.DataFrame'>\n",
      "RangeIndex: 45 entries, 0 to 44\n",
      "Data columns (total 10 columns):\n",
      " #   Column            Non-Null Count  Dtype  \n",
      "---  ------            --------------  -----  \n",
      " 0   age               45 non-null     int64  \n",
      " 1   region            45 non-null     object \n",
      " 2   face_confidence   45 non-null     float64\n",
      " 3   gender            45 non-null     object \n",
      " 4   dominant_gender   45 non-null     object \n",
      " 5   race              45 non-null     object \n",
      " 6   dominant_race     45 non-null     object \n",
      " 7   emotion           45 non-null     object \n",
      " 8   dominant_emotion  45 non-null     object \n",
      " 9   file_path         45 non-null     object \n",
      "dtypes: float64(1), int64(1), object(8)\n",
      "memory usage: 3.6+ KB\n"
     ]
    }
   ],
   "execution_count": 7
  },
  {
   "metadata": {},
   "cell_type": "code",
   "outputs": [],
   "execution_count": null,
   "source": "",
   "id": "45b900c4e2e9b43c"
  }
 ],
 "metadata": {
  "kernelspec": {
   "display_name": "Python 3",
   "language": "python",
   "name": "python3"
  },
  "language_info": {
   "codemirror_mode": {
    "name": "ipython",
    "version": 2
   },
   "file_extension": ".py",
   "mimetype": "text/x-python",
   "name": "python",
   "nbconvert_exporter": "python",
   "pygments_lexer": "ipython2",
   "version": "2.7.6"
  }
 },
 "nbformat": 4,
 "nbformat_minor": 5
}
